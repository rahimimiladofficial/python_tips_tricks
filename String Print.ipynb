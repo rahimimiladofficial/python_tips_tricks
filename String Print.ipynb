{
 "cells": [
  {
   "cell_type": "markdown",
   "id": "f9e68374",
   "metadata": {},
   "source": [
    "# How to print a string in python?"
   ]
  },
  {
   "cell_type": "code",
   "execution_count": 2,
   "id": "95375216",
   "metadata": {},
   "outputs": [],
   "source": [
    "# define a dictionary \n",
    "\n",
    "data = {\n",
    "    1 : {'name': 'Milad', 'deposit': 1000},\n",
    "    2 : {'name': 'Negar', 'deposit': 500},\n",
    "    3 : {'name': 'Zahra', 'deposit': 2100},\n",
    "    4 : {'name': 'Amir', 'deposit': 600},\n",
    "    5 : {'name': 'Ali', 'deposit': 750},\n",
    "}"
   ]
  },
  {
   "cell_type": "code",
   "execution_count": 3,
   "id": "69f695d9",
   "metadata": {},
   "outputs": [
    {
     "data": {
      "text/plain": [
       "{'name': 'Milad', 'deposit': 1000}"
      ]
     },
     "execution_count": 3,
     "metadata": {},
     "output_type": "execute_result"
    }
   ],
   "source": [
    "# return dictionary values with the calling dictionary key\n",
    "\n",
    "data[1]"
   ]
  },
  {
   "cell_type": "code",
   "execution_count": 4,
   "id": "0988af9b",
   "metadata": {},
   "outputs": [],
   "source": [
    "id = 2\n",
    "item = data[id]"
   ]
  },
  {
   "cell_type": "markdown",
   "id": "4a954a10",
   "metadata": {},
   "source": [
    "## Method 1"
   ]
  },
  {
   "cell_type": "code",
   "execution_count": 5,
   "id": "3e13606b",
   "metadata": {},
   "outputs": [
    {
     "name": "stdout",
     "output_type": "stream",
     "text": [
      "Negar has 500 dollars in their bank account.\n"
     ]
    }
   ],
   "source": [
    "print(item['name'], 'has', item['deposit'], 'dollars in their bank account.')"
   ]
  },
  {
   "cell_type": "markdown",
   "id": "cf60ad7b",
   "metadata": {},
   "source": [
    "## Method 2"
   ]
  },
  {
   "cell_type": "code",
   "execution_count": 8,
   "id": "375b5d44",
   "metadata": {},
   "outputs": [
    {
     "name": "stdout",
     "output_type": "stream",
     "text": [
      "Negar has 500 dollars in their bank account.\n"
     ]
    }
   ],
   "source": [
    "sentence = item['name'] + ' has ' + str(item['deposit']) + ' dollars in their bank account.'\n",
    "print(sentence)"
   ]
  },
  {
   "cell_type": "markdown",
   "id": "80585733",
   "metadata": {},
   "source": [
    "## Method 3"
   ]
  },
  {
   "cell_type": "code",
   "execution_count": 11,
   "id": "ab92fd5c",
   "metadata": {},
   "outputs": [
    {
     "name": "stdout",
     "output_type": "stream",
     "text": [
      "Negar has 500 dollars in their bank account.\n"
     ]
    }
   ],
   "source": [
    "t = (item['name'], 'has', str(item['deposit']), 'dollars in their bank account.')\n",
    "sentence = ' '.join(t)\n",
    "print(sentence)"
   ]
  },
  {
   "cell_type": "markdown",
   "id": "c54a6cd7",
   "metadata": {},
   "source": [
    "## Method 4"
   ]
  },
  {
   "cell_type": "code",
   "execution_count": 13,
   "id": "d1ae4e59",
   "metadata": {},
   "outputs": [
    {
     "name": "stdout",
     "output_type": "stream",
     "text": [
      "Negar has 500 dollars in their bank account.\n"
     ]
    }
   ],
   "source": [
    "sentence = '%s has %s dollars in their bank account.' % (item['name'], item['deposit'])\n",
    "print(sentence)"
   ]
  },
  {
   "cell_type": "markdown",
   "id": "25aa18e6",
   "metadata": {},
   "source": [
    "## Method 5"
   ]
  },
  {
   "cell_type": "code",
   "execution_count": 15,
   "id": "61304673",
   "metadata": {},
   "outputs": [
    {
     "name": "stdout",
     "output_type": "stream",
     "text": [
      "Negar has 500 dollars in their bank account.\n"
     ]
    }
   ],
   "source": [
    "sentence = '%(name)s has %(deposit)s dollars in their bank account.' % item\n",
    "print(sentence)"
   ]
  },
  {
   "cell_type": "markdown",
   "id": "587629f1",
   "metadata": {},
   "source": [
    "## Method 6"
   ]
  },
  {
   "cell_type": "code",
   "execution_count": 20,
   "id": "43da343b",
   "metadata": {},
   "outputs": [
    {
     "name": "stdout",
     "output_type": "stream",
     "text": [
      "Negar has 500 dollars in their bank account.\n"
     ]
    }
   ],
   "source": [
    "sentence = '{} has {} dollars in their bank account.'.format(item['name'], item['deposit'])\n",
    "print(sentence)"
   ]
  },
  {
   "cell_type": "markdown",
   "id": "bdc6e77c",
   "metadata": {},
   "source": [
    "## Method 7"
   ]
  },
  {
   "cell_type": "code",
   "execution_count": 22,
   "id": "b8ac3590",
   "metadata": {},
   "outputs": [
    {
     "name": "stdout",
     "output_type": "stream",
     "text": [
      "Negar has 500 dollars in their bank account.\n"
     ]
    }
   ],
   "source": [
    "sentence = '{name} has {deposit} dollars in their bank account.'.format(name=item['name'], deposit=item['deposit'])\n",
    "print(sentence)"
   ]
  },
  {
   "cell_type": "markdown",
   "id": "03a6a09e",
   "metadata": {},
   "source": [
    "## Method 8"
   ]
  },
  {
   "cell_type": "code",
   "execution_count": 23,
   "id": "a1eec83f",
   "metadata": {},
   "outputs": [
    {
     "name": "stdout",
     "output_type": "stream",
     "text": [
      "Negar has 500 dollars in their bank account.\n"
     ]
    }
   ],
   "source": [
    "sentence = '{name} has {deposit} dollars in their bank account.'.format(**item)\n",
    "print(sentence)"
   ]
  },
  {
   "cell_type": "markdown",
   "id": "7cb0569c",
   "metadata": {},
   "source": [
    "## Method 9"
   ]
  },
  {
   "cell_type": "code",
   "execution_count": 24,
   "id": "6f676273",
   "metadata": {},
   "outputs": [
    {
     "name": "stdout",
     "output_type": "stream",
     "text": [
      "Negar has 500 dollars in their bank account.\n"
     ]
    }
   ],
   "source": [
    "name = item['name']\n",
    "deposit = item['deposit']\n",
    "sentence = f'{name} has {deposit} dollars in their bank account.'\n",
    "print(sentence)"
   ]
  },
  {
   "cell_type": "markdown",
   "id": "4cdcf901",
   "metadata": {},
   "source": [
    "## Method 10"
   ]
  },
  {
   "cell_type": "code",
   "execution_count": 25,
   "id": "b562a9ed",
   "metadata": {},
   "outputs": [
    {
     "name": "stdout",
     "output_type": "stream",
     "text": [
      "Negar has 500 dollars in their bank account.\n"
     ]
    }
   ],
   "source": [
    "sentence = f\"{item['name']} has {item['deposit']} dollars in their bank account.\"\n",
    "print(sentence)"
   ]
  },
  {
   "cell_type": "markdown",
   "id": "50244442",
   "metadata": {},
   "source": [
    "## Method 11"
   ]
  },
  {
   "cell_type": "code",
   "execution_count": 27,
   "id": "87b34d80",
   "metadata": {},
   "outputs": [
    {
     "name": "stdout",
     "output_type": "stream",
     "text": [
      "Negar has 500 dollars in their bank account.\n"
     ]
    }
   ],
   "source": [
    "from string import Template\n",
    "template = Template('$name has $deposit dollars in their bank account.')\n",
    "sentence = template.substitute(name=item['name'], deposit=item['deposit'])\n",
    "print(sentence)"
   ]
  },
  {
   "cell_type": "markdown",
   "id": "3e6b5bbb",
   "metadata": {},
   "source": [
    "## Method 12"
   ]
  },
  {
   "cell_type": "code",
   "execution_count": 28,
   "id": "de66ac81",
   "metadata": {},
   "outputs": [
    {
     "name": "stdout",
     "output_type": "stream",
     "text": [
      "Negar has 500 dollars in their bank account.\n"
     ]
    }
   ],
   "source": [
    "from string import Template\n",
    "template = Template('$name has $deposit dollars in their bank account.')\n",
    "sentence = template.substitute(item)\n",
    "print(sentence)"
   ]
  },
  {
   "cell_type": "code",
   "execution_count": null,
   "id": "534aebd8",
   "metadata": {},
   "outputs": [],
   "source": []
  }
 ],
 "metadata": {
  "kernelspec": {
   "display_name": "Python 3 (ipykernel)",
   "language": "python",
   "name": "python3"
  },
  "language_info": {
   "codemirror_mode": {
    "name": "ipython",
    "version": 3
   },
   "file_extension": ".py",
   "mimetype": "text/x-python",
   "name": "python",
   "nbconvert_exporter": "python",
   "pygments_lexer": "ipython3",
   "version": "3.9.7"
  }
 },
 "nbformat": 4,
 "nbformat_minor": 5
}
